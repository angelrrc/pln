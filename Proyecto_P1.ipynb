{
  "cells": [
    {
      "cell_type": "code",
      "execution_count": null,
      "metadata": {
        "colab": {
          "base_uri": "https://localhost:8080/"
        },
        "id": "1SJrzD8_wGMc",
        "outputId": "2d442a3e-1922-44a3-aed5-911e6612337b"
      },
      "outputs": [
        {
          "name": "stdout",
          "output_type": "stream",
          "text": [
            "Hugging Face logging\n"
          ]
        }
      ],
      "source": [
        "from huggingface_hub import login\n",
        "token = \"\"\n",
        "print(\"Hugging Face logging\")\n",
        "login(token)"
      ]
    },
    {
      "cell_type": "code",
      "execution_count": null,
      "metadata": {
        "colab": {
          "base_uri": "https://localhost:8080/"
        },
        "id": "uT6fHVThwIUP",
        "outputId": "b6bf04a4-752d-4112-bc55-a3c9d5ab21a8"
      },
      "outputs": [
        {
          "name": "stdout",
          "output_type": "stream",
          "text": [
            "Usando dispositivo: cpu\n"
          ]
        }
      ],
      "source": [
        "import torch\n",
        "# No se usa mps porque da problemas en el notebook\n",
        "device = (\"cuda\" if torch.cuda.is_available() else \"cpu\")\n",
        "print(f\"Usando dispositivo: {device}\")"
      ]
    },
    {
      "cell_type": "code",
      "execution_count": null,
      "metadata": {
        "id": "aDJqVxX5wSG4"
      },
      "outputs": [],
      "source": [
        "import requests\n",
        "from bs4 import BeautifulSoup\n",
        "import re"
      ]
    },
    {
      "cell_type": "markdown",
      "metadata": {
        "id": "jGVFRqnav7Yn"
      },
      "source": [
        "# Corpus"
      ]
    },
    {
      "cell_type": "code",
      "execution_count": null,
      "metadata": {
        "id": "Nj1YWZoc8BXR"
      },
      "outputs": [],
      "source": [
        "\n",
        "def get_boe_dispositions(query):\n",
        "    # URL base para realizar la búsqueda en el BOE\n",
        "    #url = f\"https://www.boe.es/buscar/legislacion.php?campo%5B2%5D=TITULOS&dato%5B2%5D={query}&accion=Buscar\"\n",
        "    url = f\"https://www.boe.es/buscar/boe.php?campo%5B0%5D=ORIS&dato%5B0%5D%5B1%5D=1&dato%5B0%5D%5B2%5D=2&dato%5B0%5D%5B3%5D=3&dato%5B0%5D%5B4%5D=4&dato%5B0%5D%5B5%5D=5&dato%5B0%5D%5BT%5D=T&operador%5B0%5D=and&campo%5B1%5D=TITULOS&dato%5B1%5D={query}&operador%5B1%5D=and&campo%5B2%5D=DEM&dato%5B2%5D=&operador%5B2%5D=and&campo%5B3%5D=DOC&dato%5B3%5D=&operador%5B3%5D=and&campo%5B4%5D=NBOS&dato%5B4%5D=&operador%5B4%5D=and&campo%5B5%5D=NOF&dato%5B5%5D=&operador%5B5%5D=and&operador%5B6%5D=and&campo%5B6%5D=FPU&dato%5B6%5D%5B0%5D=&dato%5B6%5D%5B1%5D=&page_hits=50&sort_field%5B0%5D=FPU&sort_order%5B0%5D=desc&sort_field%5B1%5D=ORI&sort_order%5B1%5D=asc&sort_field%5B2%5D=REF&sort_order%5B2%5D=asc&accion=Buscar\"\n",
        "\n",
        "    # Realizar la solicitud a la página\n",
        "    response = requests.get(url)\n",
        "    if response.status_code == 200:\n",
        "        # Parsear el HTML de la página\n",
        "        soup = BeautifulSoup(response.content, \"html.parser\")\n",
        "\n",
        "        # Buscar las disposiciones dentro del HTML\n",
        "        results = soup.find_all(\"li\", class_=\"resultado-busqueda\")\n",
        "\n",
        "        dispositions = []\n",
        "        for result in results[:10]:\n",
        "            # Extraer el título\n",
        "            title_tag = result.find(\"h3\")\n",
        "            title = title_tag.get_text(strip=True) if title_tag else \"Título no disponible\"\n",
        "\n",
        "            # Extraer el resumen\n",
        "            summary_tag = result.find(\"p\")\n",
        "            summary = summary_tag.get_text(strip=True) if summary_tag else \"Resumen no disponible\"\n",
        "\n",
        "            # Extraer el enlace y completar la URL\n",
        "            link_tag = result.find(\"a\", class_=\"resultado-busqueda-link-defecto\")\n",
        "            link = \"https://www.boe.es\" + link_tag[\"href\"].replace('..', '') if link_tag else \"Enlace no disponible\"\n",
        "\n",
        "            # Extraer el texto y los metadatos\n",
        "            [resultTXT, result_publicado_en, result_seccion, result_departamento, result_referencia] = get_boe_txt_metadata(link)\n",
        "\n",
        "            # Guardar la información\n",
        "            dispositions.append({\"title\": title, \"summary\": summary, \"url\": link, \"texto\": resultTXT, \"publicado\": result_publicado_en, \"seccion\": result_seccion, \"departamento\": result_departamento, \"referencia\": result_referencia})\n",
        "\n",
        "        return dispositions\n",
        "    else:\n",
        "        print(f\"Error al acceder al BOE: {response.status_code}\")\n",
        "        return []\n",
        "\n",
        "def get_boe_info_metadata(result, typeInfo):\n",
        "    info_tag = result.find(\"dt\", string = typeInfo)\n",
        "    if info_tag:\n",
        "      dd_tag = info_tag.find_next_sibling(\"dd\")\n",
        "      if dd_tag:\n",
        "          info = dd_tag.get_text(strip=True)\n",
        "      else:\n",
        "          info = \"Etiqueta <dd> no encontrada\"\n",
        "    else:\n",
        "        info = f\"Etiqueta <dt> '{typeInfo}' no encontrada\"\n",
        "\n",
        "    return info\n",
        "\n",
        "def get_boe_metadata(soup):\n",
        "  resultsMetadata = soup.find_all(\"div\", class_=\"metadatosDoc\")\n",
        "  for result in resultsMetadata:\n",
        "    publicado_en = get_boe_info_metadata(result, \"Publicado en:\")\n",
        "    seccion = get_boe_info_metadata(result, \"Sección:\")\n",
        "    departamento = get_boe_info_metadata(result, \"Departamento:\")\n",
        "    referencia = get_boe_info_metadata(result, \"Referencia:\")\n",
        "\n",
        "  return [publicado_en, seccion, departamento, referencia]\n",
        "\n",
        "def get_boe_txt_metadata(url):\n",
        "    metadatas = []\n",
        "\n",
        "    response = requests.get(url)\n",
        "    if response.status_code == 200:\n",
        "      # Parsear el HTML de la página\n",
        "      soup = BeautifulSoup(response.content, \"html.parser\")\n",
        "      resultTXT = soup.find_all(\"div\", id=\"DOdocText\")\n",
        "      if (len(resultTXT) > 0):\n",
        "        resultTXT = resultTXT[0]\n",
        "      else:\n",
        "        resultTXT = \"\"\n",
        "\n",
        "      [result_publicado_en, result_seccion, result_departamento, result_referencia] = get_boe_metadata(soup)\n",
        "      return [resultTXT, result_publicado_en, result_seccion, result_departamento, result_referencia]\n",
        "    else:\n",
        "      print(f\"Error al acceder al BOE: {response.status_code}\")\n",
        "      return []\n",
        "\n",
        "def remove_html_tags(text):\n",
        "    \"\"\"Removes HTML tags from a string.\"\"\"\n",
        "    clean = re.compile('<.*?>')\n",
        "    return re.sub(clean, '', text)"
      ]
    },
    {
      "cell_type": "code",
      "execution_count": null,
      "metadata": {
        "colab": {
          "base_uri": "https://localhost:8080/"
        },
        "collapsed": true,
        "id": "39nJK_D78Rod",
        "outputId": "27ee27ef-9f2b-4770-ffec-3fb30f5fd347"
      },
      "outputs": [
        {
          "name": "stdout",
          "output_type": "stream",
          "text": [
            "1. Ministerio de Derechos Sociales, Consumo y Agenda 2030\n",
            "   Resumen: Anuncio de formalización de contratos de: Subdirección General de Análisis Presupuestario y Gestión Financiera del Instituto de Mayores y Servicios Sociales . Objeto: Suministro de víveres con destino al Centro de Recuperación de Personas con Discapacidad Física sito en calle Donantes de Sangre, 1 de Lardero (La Rioja). Expediente: 651/2024.\n",
            "   URL: https://www.boe.es/buscar/doc.php?id=BOE-B-2025-3065\n",
            "   Publicado en: «BOE»núm.26, de 30 de enero de 2025, páginas 4750 a 4753 (4págs.)\n",
            "   Sección: V. Anuncios- A. Contratación del Sector Público\n",
            "   Departamento: Ministerio de Derechos Sociales, Consumo y Agenda 2030\n",
            "   Referencia: BOE-B-2025-3065\n",
            "   Texto: \n",
            "TEXTO\n",
            "\n",
            "\n",
            "1. Poder adjudicador: \n",
            "\n",
            "\n",
            "1.1) Nombre: \n",
            "Su\n",
            "\n",
            "2. Ministerio de Derechos Sociales, Consumo y Agenda 2030\n",
            "   Resumen: Anuncio de formalización de contratos de: Subdirección General de Análisis Presupuestario y Gestión Financiera del Instituto de Mayores y Servicios Sociales . Objeto: Suministro de víveres con destino al Centro de Atención a Personas con Discapacidad Física de Ferrol (A Coruña). Expediente: 707/2024.\n",
            "   URL: https://www.boe.es/buscar/doc.php?id=BOE-B-2025-3066\n",
            "   Publicado en: «BOE»núm.26, de 30 de enero de 2025, páginas 4754 a 4756 (3págs.)\n",
            "   Sección: V. Anuncios- A. Contratación del Sector Público\n",
            "   Departamento: Ministerio de Derechos Sociales, Consumo y Agenda 2030\n",
            "   Referencia: BOE-B-2025-3066\n",
            "   Texto: \n",
            "TEXTO\n",
            "\n",
            "\n",
            "1. Poder adjudicador: \n",
            "\n",
            "\n",
            "1.1) Nombre: \n",
            "Su\n",
            "\n",
            "3. Ministerio de Sanidad\n",
            "   Resumen: Resolución de 17 de enero de 2025, del Instituto Nacional de Gestión Sanitaria, por la que se aprueban las relaciones provisionales de personas admitidas y excluidas a procesos selectivos, por el sistema de concurso, para acceso a la condición de personal estatutario fijo en plazas reservadas para el cupo de discapacidad, convocados por Resoluciones de 20 de noviembre de 2024.\n",
            "   URL: https://www.boe.es/buscar/doc.php?id=BOE-A-2025-1594\n",
            "   Publicado en: «BOE»núm.25, de 29 de enero de 2025, páginas 13295 a 13296 (2págs.)\n",
            "   Sección: II. Autoridades y personal- B. Oposiciones y concursos\n",
            "   Departamento: Ministerio de Sanidad\n",
            "   Referencia: BOE-A-2025-1594\n",
            "   Texto: \n",
            "TEXTO ORIGINAL\n",
            "\n",
            "En cumplimiento de lo dispuesto e\n",
            "\n",
            "4. Ministerio de Ciencia, Innovación y Universidades\n",
            "   Resumen: Resolución de 24 de enero de 2025, de la Subsecretaría, por la que se corrigen errores en la de 26 de diciembre de 2024, por la que se convocan, por el sistema de concurso, plazas reservadas para personas con discapacidad, para la contratación de personal laboral fijo de los grupos profesionales M3, M2, M1, E2, 1G, 2G, 3G y 4G, sujetas al IV Convenio colectivo único de la Administración General del Estado, en el marco de estabilización de empleo temporal en la Agencia Estatal Consejo Superior de Investigaciones Científicas, Centro de Investigaciones Energéticas, Medioambientales y Tecnológicas e Instituto de Salud Carlos III.\n",
            "   URL: https://www.boe.es/buscar/doc.php?id=BOE-A-2025-1505\n",
            "   Publicado en: «BOE»núm.24, de 28 de enero de 2025, páginas 12733 a 12733 (1pág.)\n",
            "   Sección: II. Autoridades y personal- B. Oposiciones y concursos\n",
            "   Departamento: Ministerio de Ciencia, Innovación y Universidades\n",
            "   Referencia: BOE-A-2025-1505\n",
            "   Texto: \n",
            "TEXTO ORIGINAL\n",
            "\n",
            "Mediante Resolución de 26 de dici\n",
            "\n",
            "5. Ministerio de Sanidad\n",
            "   Resumen: Resolución de 15 de enero de 2025, del Instituto Nacional de Gestión Sanitaria, por el que se declara desierto el proceso selectivo para acceso a la condición de personal estatutario fijo en plazas reservadas para el cupo de discapacidad de la categoría de Titulado Especialista en Ciencias de la Salud: Pediatría de Atención Primaria.\n",
            "   URL: https://www.boe.es/buscar/doc.php?id=BOE-A-2025-1429\n",
            "   Publicado en: «BOE»núm.23, de 27 de enero de 2025, páginas 11655 a 11655 (1pág.)\n",
            "   Sección: II. Autoridades y personal- B. Oposiciones y concursos\n",
            "   Departamento: Ministerio de Sanidad\n",
            "   Referencia: BOE-A-2025-1429\n",
            "   Texto: \n",
            "TEXTO ORIGINAL\n",
            "\n",
            "Mediante Resolución de esta Direc\n",
            "\n",
            "6. Anuncios particulares\n",
            "   Resumen: FUNDACIÓN ONCE PARA LA COOPERACIÓN E INCLUSIÓN SOCIAL DE PERSONAS CON DISCAPACIDAD.\n",
            "   URL: https://www.boe.es/buscar/doc.php?id=BOE-B-2025-2559\n",
            "   Publicado en: «BOE»núm.22, de 25 de enero de 2025, páginas 3885 a 3885 (1pág.)\n",
            "   Sección: V. Anuncios- C. Anuncios particulares\n",
            "   Departamento: Anuncios particulares\n",
            "   Referencia: BOE-B-2025-2559\n",
            "   Texto: \n",
            "TEXTO\n",
            "\n",
            "Convocatoria ordinaria para la presentació\n",
            "\n",
            "7. Ministerio de Ciencia, Innovación y Universidades\n",
            "   Resumen: Resolución de 28 de diciembre de 2024, de la Presidencia de la Agencia Estatal Consejo Superior de Investigaciones Científicas, por la que se convoca el proceso selectivo extraordinario, para la contratación de personal laboral fijo, para personas con discapacidad, con la titulación universitaria de Titulado Superior, fuera del Convenio Único de la Administración General del Estado, en el marco de estabilización de empleo temporal, en el Consejo Superior de Investigaciones Científicas.\n",
            "   URL: https://www.boe.es/buscar/doc.php?id=BOE-A-2025-1053\n",
            "   Publicado en: «BOE»núm.19, de 22 de enero de 2025, páginas 9073 a 9090 (18págs.)\n",
            "   Sección: II. Autoridades y personal- B. Oposiciones y concursos\n",
            "   Departamento: Ministerio de Ciencia, Innovación y Universidades\n",
            "   Referencia: BOE-A-2025-1053\n",
            "   Texto: \n",
            "TEXTO ORIGINAL\n",
            "\n",
            "Por Real Decreto 408/2022, de 24 \n",
            "\n",
            "8. Ministerio de Derechos Sociales, Consumo y Agenda 2030\n",
            "   Resumen: Anuncio de licitación de: Subdirección General de Análisis Presupuestario y Gestión Financiera del Instituto de Mayores y Servicios Sociales . Objeto: Servicio de limpieza para los Centros de Recuperación de Personas con Discapacidad Física de Lardero (La Rioja) y San Fernando (Cádiz). Expediente: 1004/2024.\n",
            "   URL: https://www.boe.es/buscar/doc.php?id=BOE-B-2025-1944\n",
            "   Publicado en: «BOE»núm.19, de 22 de enero de 2025, páginas 3036 a 3038 (3págs.)\n",
            "   Sección: V. Anuncios- A. Contratación del Sector Público\n",
            "   Departamento: Ministerio de Derechos Sociales, Consumo y Agenda 2030\n",
            "   Referencia: BOE-B-2025-1944\n",
            "   Texto: \n",
            "TEXTO\n",
            "\n",
            "\n",
            "1. Poder adjudicador: \n",
            "\n",
            "\n",
            "1.1) Nombre: \n",
            "Su\n",
            "\n",
            "9. Ministerio de Ciencia, Innovación y Universidades\n",
            "   Resumen: Resolución de 24 de diciembre de 2024, de la Subsecretaría, por la que se convoca proceso selectivo extraordinario para la contratación de personal laboral fijo, para personas con discapacidad, Titulado/a Superior, fuera del convenio único de la Administración General del Estado, en el marco de la estabilización de empleo temporal, en el Centro de Investigaciones Energéticas, Medioambientales y Tecnológicas.\n",
            "   URL: https://www.boe.es/buscar/doc.php?id=BOE-A-2025-954\n",
            "   Publicado en: «BOE»núm.18, de 21 de enero de 2025, páginas 8442 a 8459 (18págs.)\n",
            "   Sección: II. Autoridades y personal- B. Oposiciones y concursos\n",
            "   Departamento: Ministerio de Ciencia, Innovación y Universidades\n",
            "   Referencia: BOE-A-2025-954\n",
            "   Texto: \n",
            "TEXTO ORIGINAL\n",
            "\n",
            "Con el objetivo de hacer frente a\n",
            "\n",
            "10. Ministerio de Ciencia, Innovación y Universidades\n",
            "   Resumen: Resolución de 24 de diciembre de 2024, de la Subsecretaría, por la que se convoca proceso selectivo extraordinario para la contratación de personal laboral fijo, para personas con discapacidad, Titulado/a Medio, fuera del convenio único de la Administración General del Estado, en el marco de la estabilización de empleo temporal, en el Centro de Investigaciones Energéticas, Medioambientales y Tecnológicas.\n",
            "   URL: https://www.boe.es/buscar/doc.php?id=BOE-A-2025-955\n",
            "   Publicado en: «BOE»núm.18, de 21 de enero de 2025, páginas 8460 a 8474 (15págs.)\n",
            "   Sección: II. Autoridades y personal- B. Oposiciones y concursos\n",
            "   Departamento: Ministerio de Ciencia, Innovación y Universidades\n",
            "   Referencia: BOE-A-2025-955\n",
            "   Texto: \n",
            "TEXTO ORIGINAL\n",
            "\n",
            "Con el objetivo de hacer frente a\n",
            "\n"
          ]
        }
      ],
      "source": [
        "# Probar con una consulta específica\n",
        "query = \"discapacidad\"\n",
        "boe_dispositions = get_boe_dispositions(query)\n",
        "\n",
        "# Mostrar resultados\n",
        "for i, disposition in enumerate(boe_dispositions, 1):\n",
        "    texto = disposition['texto'].get_text()\n",
        "    print(f\"{i}. {disposition['title']}\")\n",
        "    print(f\"   Resumen: {disposition['summary']}\")\n",
        "    print(f\"   URL: {disposition['url']}\")\n",
        "    print(f\"   Publicado en: {disposition['publicado']}\")\n",
        "    print(f\"   Sección: {disposition['seccion']}\")\n",
        "    print(f\"   Departamento: {disposition['departamento']}\")\n",
        "    print(f\"   Referencia: {disposition['referencia']}\")\n",
        "    print(f\"   Texto: {texto[:50]}\\n\")"
      ]
    },
    {
      "cell_type": "code",
      "execution_count": null,
      "metadata": {
        "id": "1xiQggz_XM8h"
      },
      "outputs": [],
      "source": [
        "cadena_busqueda = \"busca donde aparece regulado el porcentaje de discapacitados que deben contratar las empresas\""
      ]
    }
  ],
  "metadata": {
    "colab": {
      "provenance": []
    },
    "kernelspec": {
      "display_name": "Python 3",
      "name": "python3"
    },
    "language_info": {
      "name": "python"
    }
  },
  "nbformat": 4,
  "nbformat_minor": 0
}
